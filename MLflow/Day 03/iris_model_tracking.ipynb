{
 "cells": [
  {
   "cell_type": "markdown",
   "metadata": {},
   "source": [
    "## Log Parameters , Metrcis and Models"
   ]
  },
  {
   "cell_type": "code",
   "execution_count": 1,
   "metadata": {},
   "outputs": [],
   "source": [
    "import mlflow\n",
    "import mlflow.sklearn\n",
    "from sklearn.ensemble import RandomForestClassifier\n",
    "from sklearn.datasets import load_iris\n",
    "from sklearn.model_selection import train_test_split\n",
    "from sklearn.metrics import accuracy_score"
   ]
  },
  {
   "cell_type": "code",
   "execution_count": 2,
   "metadata": {},
   "outputs": [],
   "source": [
    "# Set the tracking uri\n",
    "mlflow.set_tracking_uri(\"http://127.0.0.1:5000\")"
   ]
  },
  {
   "cell_type": "code",
   "execution_count": 3,
   "metadata": {},
   "outputs": [
    {
     "name": "stderr",
     "output_type": "stream",
     "text": [
      "2024/12/27 16:24:09 INFO mlflow.tracking.fluent: Experiment with name 'Beginner Experiment' does not exist. Creating a new experiment.\n"
     ]
    },
    {
     "data": {
      "text/plain": [
       "<Experiment: artifact_location='mlflow-artifacts:/596581833741613398', creation_time=1735296849525, experiment_id='596581833741613398', last_update_time=1735296849525, lifecycle_stage='active', name='Beginner Experiment', tags={}>"
      ]
     },
     "execution_count": 3,
     "metadata": {},
     "output_type": "execute_result"
    }
   ],
   "source": [
    "# Set the experiement name\n",
    "mlflow.set_experiment(\"Beginner Experiment\")"
   ]
  },
  {
   "cell_type": "code",
   "execution_count": 4,
   "metadata": {},
   "outputs": [
    {
     "name": "stderr",
     "output_type": "stream",
     "text": [
      "2024/12/27 16:35:44 WARNING mlflow.models.model: Model logged without a signature and input example. Please set `input_example` parameter when logging the model to auto infer the model signature.\n"
     ]
    },
    {
     "name": "stdout",
     "output_type": "stream",
     "text": [
      "🏃 View run worried-ray-153 at: http://127.0.0.1:5000/#/experiments/596581833741613398/runs/d138da2a3e134dec822f60f049d37800\n",
      "🧪 View experiment at: http://127.0.0.1:5000/#/experiments/596581833741613398\n",
      " Run Logged Successfully\n"
     ]
    }
   ],
   "source": [
    "# Start an MLflow run\n",
    "with mlflow.start_run():\n",
    "    \n",
    "    #Load dataset\n",
    "    data = load_iris()\n",
    "    X_train, X_test, y_train, y_test = train_test_split(data.data, data.target, test_size=0.2)\n",
    "    \n",
    "    # Train model\n",
    "    model = RandomForestClassifier(n_estimators=100, max_depth=3, random_state=42)\n",
    "    model.fit(X_train, y_train)\n",
    "    \n",
    "    # Log parameter\n",
    "    mlflow.log_param(\"n_estimators\",100)\n",
    "    mlflow.log_param(\"max_depth\",3)\n",
    "    mlflow.log_param(\"random_state\",42)\n",
    "    \n",
    "    # Evaluate the model\n",
    "    y_test_pred = model.predict(X_test)\n",
    "    accuracy = accuracy_score(y_test,y_test_pred)\n",
    "    \n",
    "    # Log metrcis\n",
    "    mlflow.log_metric(\"accuracy\",accuracy)\n",
    "    \n",
    "    # Log the model\n",
    "    mlflow.sklearn.log_model(model,artifact_path=\"model\")\n",
    "    \n",
    "print(\" Run Logged Successfully\")\n",
    "    \n",
    "     "
   ]
  },
  {
   "cell_type": "markdown",
   "metadata": {},
   "source": [
    "- Artifacts: Files or outputs (e.g., models, plots, datasets) generated during an MLflow run, which can be logged, stored, and retrieved for future use.\n",
    "\n",
    "- YAML: A human-readable configuration file format used to organize parameters, settings, or dependencies for experiments in MLflow."
   ]
  },
  {
   "cell_type": "code",
   "execution_count": null,
   "metadata": {},
   "outputs": [],
   "source": []
  },
  {
   "cell_type": "code",
   "execution_count": null,
   "metadata": {},
   "outputs": [],
   "source": []
  }
 ],
 "metadata": {
  "kernelspec": {
   "display_name": "venv-mlflow",
   "language": "python",
   "name": "python3"
  },
  "language_info": {
   "codemirror_mode": {
    "name": "ipython",
    "version": 3
   },
   "file_extension": ".py",
   "mimetype": "text/x-python",
   "name": "python",
   "nbconvert_exporter": "python",
   "pygments_lexer": "ipython3",
   "version": "3.12.0"
  }
 },
 "nbformat": 4,
 "nbformat_minor": 2
}
