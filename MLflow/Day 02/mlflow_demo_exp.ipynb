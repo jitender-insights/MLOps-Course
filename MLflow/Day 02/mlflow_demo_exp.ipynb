{
 "cells": [
  {
   "cell_type": "markdown",
   "metadata": {},
   "source": [
    "## MLflow is an open-source platform to manage the machine learning lifecycle, including experimentation, reproducibility, deployment, and model registry.\n",
    "Components:\n",
    "1. Tracking: Logs parameters, metrics, and artifacts.\n",
    "2. Projects: Packages code into a reusable format.\n",
    "3. Models: Manages and deploys machine learning models.\n",
    "4. Model Registry: A central place to share, review, and manage models.\n"
   ]
  },
  {
   "cell_type": "markdown",
   "metadata": {},
   "source": [
    "## MLFLOW Tracking Server"
   ]
  },
  {
   "cell_type": "code",
   "execution_count": 3,
   "metadata": {},
   "outputs": [],
   "source": [
    "import mlflow"
   ]
  },
  {
   "cell_type": "code",
   "execution_count": 4,
   "metadata": {},
   "outputs": [],
   "source": [
    "mlflow.set_tracking_uri(\"http://127.0.0.1:5000\")"
   ]
  },
  {
   "cell_type": "code",
   "execution_count": 6,
   "metadata": {},
   "outputs": [
    {
     "name": "stdout",
     "output_type": "stream",
     "text": [
      "🏃 View run nervous-rat-209 at: http://127.0.0.1:5000/#/experiments/552346652890006293/runs/fb96a5077e6549b0a8505bf237fdf89c\n",
      "🧪 View experiment at: http://127.0.0.1:5000/#/experiments/552346652890006293\n"
     ]
    }
   ],
   "source": [
    "mlflow.set_experiment(\"MLFlow Server Connection\")\n",
    "\n",
    "with mlflow.start_run():\n",
    "    mlflow.log_metric(\"test\",100)\n",
    "    mlflow.log_metric(\"DataSciLearn\",1500)"
   ]
  },
  {
   "cell_type": "code",
   "execution_count": 7,
   "metadata": {},
   "outputs": [
    {
     "name": "stdout",
     "output_type": "stream",
     "text": [
      "🏃 View run languid-wasp-560 at: http://127.0.0.1:5000/#/experiments/552346652890006293/runs/73815c12acfc427ba42c8b3be8ddeb19\n",
      "🧪 View experiment at: http://127.0.0.1:5000/#/experiments/552346652890006293\n"
     ]
    }
   ],
   "source": [
    "with mlflow.start_run():\n",
    "    mlflow.log_metric(\"accuracy\",0.98)\n",
    "    mlflow.log_metric(\"recall\",0.78)"
   ]
  }
 ],
 "metadata": {
  "kernelspec": {
   "display_name": "venv-mlflow",
   "language": "python",
   "name": "python3"
  },
  "language_info": {
   "codemirror_mode": {
    "name": "ipython",
    "version": 3
   },
   "file_extension": ".py",
   "mimetype": "text/x-python",
   "name": "python",
   "nbconvert_exporter": "python",
   "pygments_lexer": "ipython3",
   "version": "3.12.0"
  }
 },
 "nbformat": 4,
 "nbformat_minor": 2
}
